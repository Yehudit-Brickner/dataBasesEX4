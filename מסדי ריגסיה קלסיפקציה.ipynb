{
 "cells": [
  {
   "cell_type": "code",
   "execution_count": 1,
   "metadata": {},
   "outputs": [],
   "source": [
    "import numpy as np\n",
    "import pandas as pd\n",
    "import random\n",
    "\n",
    "import matplotlib.pyplot as plt\n",
    "\n",
    "import warnings\n",
    "warnings.filterwarnings('ignore')"
   ]
  },
  {
   "cell_type": "code",
   "execution_count": 2,
   "metadata": {},
   "outputs": [],
   "source": [
    "df=pd.read_csv('prices.txt')\n",
    "df=df.sample(frac=1)\n",
    "dfpriceX=df.drop(\"25.9\", axis=1)\n",
    "dfpriceY=df[\"25.9\"]\n",
    "dffireX=df.drop(\"0\", axis=1)\n",
    "dffireY=df[\"0\"]\n",
    "\n",
    "\n",
    "np_dfpriceX=dfpriceX.to_numpy()\n",
    "np_dfpriceY=dfpriceY.to_numpy()\n",
    "np_dffireX=dffireX.to_numpy()\n",
    "np_dffireY=dffireY.to_numpy()"
   ]
  },
  {
   "cell_type": "code",
   "execution_count": 3,
   "metadata": {},
   "outputs": [],
   "source": [
    "train_np_dfpriceX=np_dfpriceX[0:int(0.75*len(np_dfpriceX))]\n",
    "test_np_dfpriceX=np_dfpriceX[int(0.75*len(np_dfpriceX)):len(np_dfpriceX)]\n",
    "\n",
    "\n",
    "train_np_dfpriceY=np_dfpriceY[0:int(0.75*len(np_dfpriceY))]\n",
    "test_np_dfpriceY=np_dfpriceY[int(0.75*len(np_dfpriceY)):len(np_dfpriceY)]\n",
    "\n",
    "\n",
    "train_np_dffireX=np_dffireX[0:int(0.85*len(np_dffireX))]\n",
    "test_np_dffireX=np_dffireX[int(0.85*len(np_dffireX)):len(np_dffireX)]\n",
    "\n",
    "\n",
    "train_np_dffireY=np_dffireY[0:int(0.85*len(np_dffireY))]\n",
    "test_np_dffireY=np_dffireY[int(0.85*len(np_dffireY)):len(np_dffireY)]\n"
   ]
  },
  {
   "cell_type": "code",
   "execution_count": 4,
   "metadata": {
    "scrolled": false
   },
   "outputs": [],
   "source": [
    "def linear_regression_fit(datax, datay):\n",
    "    w = np.zeros(datax.shape[1])\n",
    "    b = 0\n",
    "    alpha = 0.001\n",
    "    for iteration in range(100000):\n",
    "        deriv_b = np.mean(1*((np.dot(datax,w)+b)-datay))\n",
    "        gradient_w = 1.0/len(datay) * np.dot(((np.dot(datax,w)+b)-datay), datax)\n",
    "        b -= alpha*deriv_b\n",
    "        w -= alpha*gradient_w\n",
    "    return (b,w)\n",
    "\n",
    "def linear_regression_predict(b,w,datax,datay):\n",
    "    pred=[]\n",
    "    mse=0\n",
    "    for i in range (len(datax)):\n",
    "        p=b+np.sum(w.dot(datax[i]))\n",
    "        pred.append(p)\n",
    "        mse+=(p-datay[i])**2\n",
    "    mse=mse/len(datax)\n",
    "    print(\"MSE: \", mse)\n",
    "    plt.plot(test_np_dfpriceY)\n",
    "    plt.plot(pred)\n",
    "    plt.show()\n",
    "    "
   ]
  },
  {
   "cell_type": "code",
   "execution_count": 5,
   "metadata": {},
   "outputs": [
    {
     "name": "stdout",
     "output_type": "stream",
     "text": [
      "MSE:  20.209724810963326\n"
     ]
    },
    {
     "data": {
      "image/png": "[encoded data removed]",
      "text/plain": [
       "<Figure size 432x288 with 1 Axes>"
      ]
     },
     "metadata": {
      "needs_background": "light"
     },
     "output_type": "display_data"
    }
   ],
   "source": [
    "b, w=linear_regression_fit(train_np_dfpriceX, train_np_dfpriceY)\n",
    "linear_regression_predict(b, w, test_np_dfpriceX, test_np_dfpriceY)"
   ]
  },
  {
   "cell_type": "code",
   "execution_count": 6,
   "metadata": {},
   "outputs": [],
   "source": [
    "def h(x,w,b):\n",
    "    return 1 / (1+np.exp(-(np.dot(x,w) + b)))\n",
    "\n",
    "def logistic_regression_fit(datax, datay):\n",
    "    w = np.zeros(datax.shape[1])\n",
    "    b = 0\n",
    "    alpha = 0.001\n",
    "    for iteration in range(100000):\n",
    "        gradient_b = np.mean(1*(datay-(h([datax],w,b))))\n",
    "        gradient_w = np.dot((datay-h(datax,w,b)), datax)*1/len(datay)\n",
    "        b += alpha*gradient_b\n",
    "        w += alpha*gradient_w\n",
    "    return b,w\n",
    "\n",
    "def logistic_regression_predict(b,w,datax,datay):\n",
    "    pred=[]\n",
    "    tp=0 #if correct is 0 and classified 0\n",
    "    fp=0 #if correct is 1 and classified 0\n",
    "    tn=0 #if correct is 1 and classified 1\n",
    "    fn=0 #if correct is 0 and classified 1\n",
    "    for i in range(len(datax)):\n",
    "        p=h(np.array([datax[i]]),w,b)\n",
    "        if p>=0.5:\n",
    "            pred.append(1)\n",
    "        else:\n",
    "            pred.append(0)\n",
    "        if (pred[-i]==0 and datay[i]==0):\n",
    "            tp+=1\n",
    "        if (pred[-i]==0 and datay[i]==1):\n",
    "            fp+=1\n",
    "        if (pred[-i]==1 and datay[i]==1):\n",
    "            tn+=1\n",
    "        if (pred[-i]==1 and datay[i]==0):\n",
    "            fn+=1\n",
    "    ps=tp/(tp + fp)\n",
    "    rs=tp/(tp + fn)\n",
    "    f1=2*ps*rs/(ps+rs)\n",
    "    print(\"confussion matrix: [ tp    fp\")\n",
    "    print(\"                    \",tp,\"  \", fp)\n",
    "    print(\"                     fn    tn\")\n",
    "    print(\"                    \",fn,\"  \",tn,\"]\") \n",
    "    print(\"presicion score: \",ps)\n",
    "    print(\"recall score: \",rs)\n",
    "    print(\"f1 score: \",f1)    "
   ]
  },
  {
   "cell_type": "code",
   "execution_count": 7,
   "metadata": {},
   "outputs": [
    {
     "name": "stdout",
     "output_type": "stream",
     "text": [
      "confussion matrix: [ tp    fp\n",
      "                     4    1\n",
      "                     fn    tn\n",
      "                     0    0 ]\n",
      "presicion score:  0.8\n",
      "recall score:  1.0\n",
      "f1 score:  0.888888888888889\n"
     ]
    }
   ],
   "source": [
    "b, w=logistic_regression_fit(train_np_dffireX,train_np_dffireY)\n",
    "logistic_regression_predict(b,w,test_np_dffireX,test_np_dffireY)"
   ]
  },
  {
   "cell_type": "code",
   "execution_count": null,
   "metadata": {},
   "outputs": [],
   "source": [
    " "
   ]
  },
  {
   "cell_type": "code",
   "execution_count": null,
   "metadata": {},
   "outputs": [],
   "source": []
  },
  {
   "cell_type": "code",
   "execution_count": null,
   "metadata": {},
   "outputs": [],
   "source": []
  }
 ],
 "metadata": {
  "kernelspec": {
   "display_name": "Python 3",
   "language": "python",
   "name": "python3"
  },
  "language_info": {
   "codemirror_mode": {
    "name": "ipython",
    "version": 3
   },
   "file_extension": ".py",
   "mimetype": "text/x-python",
   "name": "python",
   "nbconvert_exporter": "python",
   "pygments_lexer": "ipython3",
   "version": "3.8.3"
  }
 },
 "nbformat": 4,
 "nbformat_minor": 4
}
